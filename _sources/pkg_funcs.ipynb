{
 "cells": [
  {
   "cell_type": "markdown",
   "id": "0c7659ca",
   "metadata": {},
   "source": [
    "# The quantecon_book_networks package\n",
    "\n",
    "## Chapter 1\n",
    "\n",
    "### node_total_exports"
   ]
  },
  {
   "cell_type": "code",
   "execution_count": 1,
   "id": "6dfebdce",
   "metadata": {},
   "outputs": [],
   "source": [
    "def node_total_exports(G):\n",
    "    node_exports = []\n",
    "    for node1 in G.nodes():\n",
    "        total_export = 0\n",
    "        for node2 in G[node1]:\n",
    "            total_export += G[node1][node2]['weight']\n",
    "        node_exports.append(total_export)\n",
    "    return node_exports"
   ]
  },
  {
   "cell_type": "markdown",
   "id": "35551b0e",
   "metadata": {},
   "source": [
    "### edge_weights"
   ]
  },
  {
   "cell_type": "code",
   "execution_count": 2,
   "id": "6cb1f054",
   "metadata": {},
   "outputs": [],
   "source": [
    "def edge_weights(G):\n",
    "    edge_weights = [G[u][v]['weight'] for u,v in G.edges()]\n",
    "    return edge_weights"
   ]
  },
  {
   "cell_type": "markdown",
   "id": "91b57862",
   "metadata": {},
   "source": [
    "### normalise_weights"
   ]
  },
  {
   "cell_type": "code",
   "execution_count": 3,
   "id": "6f73bc87",
   "metadata": {},
   "outputs": [],
   "source": [
    "def normalise_weights(weights,scalar=1):\n",
    "    max_value = np.max(weights)\n",
    "    return [scalar * (weight / max_value) for weight in weights]"
   ]
  },
  {
   "cell_type": "markdown",
   "id": "b5cf70ee",
   "metadata": {},
   "source": [
    "### to_zero_one_beta"
   ]
  },
  {
   "cell_type": "code",
   "execution_count": 4,
   "id": "90b38623",
   "metadata": {},
   "outputs": [],
   "source": [
    "def to_zero_one_beta(x, \n",
    "                qrange=[0.25, 0.75], \n",
    "                beta_para=[0.5, 0.5]):\n",
    "    \n",
    "    \"\"\"\n",
    "    Nonlinearly map vector x to the zero one interval with beta distribution.\n",
    "    https://en.wikipedia.org/wiki/Beta_distribution\n",
    "    \"\"\"\n",
    "    x = np.array(x)\n",
    "    x_min, x_max = x.min(), x.max()\n",
    "    if beta_para != None:\n",
    "        a, b = beta_para\n",
    "        return beta.cdf((x - x_min) /(x_max - x_min), a, b)\n",
    "    else:\n",
    "        q1, q2 = qrange\n",
    "        return (x - x_min) * (q2 - q1) /(x_max - x_min) + q1"
   ]
  },
  {
   "cell_type": "markdown",
   "id": "ac171ccb",
   "metadata": {},
   "source": [
    "### colorise_weights"
   ]
  },
  {
   "cell_type": "code",
   "execution_count": 5,
   "id": "da296368",
   "metadata": {},
   "outputs": [],
   "source": [
    "import matplotlib.cm as cm\n",
    "def colorise_weights(weights,zero_one_func=to_zero_one_beta,color_palette=cm.plasma):\n",
    "    return color_palette(zero_one_func(weights))"
   ]
  },
  {
   "cell_type": "markdown",
   "id": "8f44c70c",
   "metadata": {},
   "source": [
    "### spec_rad"
   ]
  },
  {
   "cell_type": "code",
   "execution_count": 6,
   "id": "326a9a5f",
   "metadata": {},
   "outputs": [],
   "source": [
    "def spec_rad(M):\n",
    "    \"\"\"\n",
    "    Compute the spectral radius of M.\n",
    "    \"\"\"\n",
    "    return np.max(np.abs(np.linalg.eigvals(M)))"
   ]
  },
  {
   "cell_type": "markdown",
   "id": "34126ec8",
   "metadata": {},
   "source": [
    "### adjacency_matrix_to_graph"
   ]
  },
  {
   "cell_type": "code",
   "execution_count": 7,
   "id": "469e1b46",
   "metadata": {},
   "outputs": [],
   "source": [
    "def adjacency_matrix_to_graph(A, \n",
    "               codes,\n",
    "               tol=0.0):  # clip entries below tol\n",
    "    \"\"\"\n",
    "    Build a networkx graph object given an adjacency matrix\n",
    "    \"\"\"\n",
    "    G = nx.DiGraph()\n",
    "    N = len(A)\n",
    "\n",
    "    # Add nodes\n",
    "    for i, code in enumerate(codes):\n",
    "        G.add_node(code, name=code)\n",
    "\n",
    "    # Add the edges\n",
    "    for i in range(N):\n",
    "        for j in range(N):\n",
    "            a = A[i, j]\n",
    "            if a > tol:\n",
    "                G.add_edge(codes[i], codes[j], weight=a)\n",
    "\n",
    "    return G"
   ]
  },
  {
   "cell_type": "markdown",
   "id": "d6d94cf4",
   "metadata": {},
   "source": [
    "### eigenvector_centrality"
   ]
  },
  {
   "cell_type": "code",
   "execution_count": 8,
   "id": "20c400e5",
   "metadata": {},
   "outputs": [],
   "source": [
    "def eigenvector_centrality(A, k=40, authority=False):\n",
    "    \"\"\"\n",
    "    Computes the dominant eigenvector of A. Assumes A is \n",
    "    primitive and uses the power method.  \n",
    "    \"\"\"\n",
    "    A_temp = A.T if authority else A\n",
    "    n = len(A_temp)\n",
    "    r = spec_rad(A_temp)\n",
    "    e = r**(-k) * (np.linalg.matrix_power(A_temp, k) @ np.ones(n))\n",
    "    return e / np.sum(e)"
   ]
  },
  {
   "cell_type": "markdown",
   "id": "b333a577",
   "metadata": {},
   "source": [
    "### katz_centrality"
   ]
  },
  {
   "cell_type": "code",
   "execution_count": 9,
   "id": "e22702b8",
   "metadata": {},
   "outputs": [],
   "source": [
    "def katz_centrality(A, b=1, authority=False):\n",
    "    \"\"\"\n",
    "    Computes the Katz centrality of A, defined as the x solving\n",
    "\n",
    "    x = 1 + b A x    (1 = vector of ones)\n",
    "\n",
    "    Assumes that A is square.\n",
    "\n",
    "    If authority=True, then A is replaced by its transpose.\n",
    "    \"\"\"\n",
    "    n = len(A)\n",
    "    I = np.identity(n)\n",
    "    C = I - b * A.T if authority else I - b * A\n",
    "    return np.linalg.solve(C, np.ones(n))"
   ]
  },
  {
   "cell_type": "markdown",
   "id": "d80449e5",
   "metadata": {},
   "source": [
    "### build_unweighted_matrix"
   ]
  },
  {
   "cell_type": "code",
   "execution_count": 10,
   "id": "ff7cac4b",
   "metadata": {},
   "outputs": [],
   "source": [
    "def build_unweighted_matrix(Z, tol=1e-5):\n",
    "    \"\"\"\n",
    "    return a unweighted adjacency matrix\n",
    "    \"\"\"\n",
    "    return 1*(Z>tol)"
   ]
  },
  {
   "cell_type": "markdown",
   "id": "f1e3fc33",
   "metadata": {},
   "source": [
    "### erdos_renyi_graph"
   ]
  },
  {
   "cell_type": "code",
   "execution_count": 11,
   "id": "7b27cad8",
   "metadata": {},
   "outputs": [],
   "source": [
    "def erdos_renyi_graph(n=100, p=0.5, seed=1234):\n",
    "    \"Returns an Erdős-Rényi random graph.\"\n",
    "    \n",
    "    np.random.seed(seed)\n",
    "    edges = itertools.combinations(range(n), 2)\n",
    "    G = nx.Graph()\n",
    "    \n",
    "    for e in edges:\n",
    "        if np.random.rand() < p:\n",
    "            G.add_edge(*e)\n",
    "    return G"
   ]
  }
 ],
 "metadata": {
  "jupytext": {
   "cell_metadata_filter": "-all",
   "formats": "md:myst",
   "text_representation": {
    "extension": ".md",
    "format_name": "myst",
    "format_version": 0.13,
    "jupytext_version": "1.10.3"
   }
  },
  "kernelspec": {
   "display_name": "Python 3",
   "language": "python",
   "name": "python3"
  },
  "language_info": {
   "codemirror_mode": {
    "name": "ipython",
    "version": 3
   },
   "file_extension": ".py",
   "mimetype": "text/x-python",
   "name": "python",
   "nbconvert_exporter": "python",
   "pygments_lexer": "ipython3",
   "version": "3.8.12"
  },
  "source_map": [
   14,
   21,
   30,
   33,
   37,
   40,
   44,
   47,
   64,
   67,
   71,
   74,
   80,
   83,
   105,
   108,
   119,
   122,
   137,
   140,
   146,
   149
  ]
 },
 "nbformat": 4,
 "nbformat_minor": 5
}