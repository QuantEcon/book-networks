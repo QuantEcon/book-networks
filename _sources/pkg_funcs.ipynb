{
 "cells": [
  {
   "cell_type": "markdown",
   "id": "476ece88",
   "metadata": {},
   "source": [
    "# quantecon_book_networks\n",
    "\n",
    "## input_output\n",
    "\n",
    "### node_total_exports"
   ]
  },
  {
   "cell_type": "code",
   "execution_count": 1,
   "id": "7b7981b6",
   "metadata": {},
   "outputs": [],
   "source": [
    "def node_total_exports(G):\n",
    "    node_exports = []\n",
    "    for node1 in G.nodes():\n",
    "        total_export = 0\n",
    "        for node2 in G[node1]:\n",
    "            total_export += G[node1][node2]['weight']\n",
    "        node_exports.append(total_export)\n",
    "    return node_exports"
   ]
  },
  {
   "cell_type": "markdown",
   "id": "0e649c32",
   "metadata": {},
   "source": [
    "### node_total_imports"
   ]
  },
  {
   "cell_type": "code",
   "execution_count": 2,
   "id": "a20bf059",
   "metadata": {},
   "outputs": [],
   "source": [
    "def node_total_imports(G):\n",
    "    node_imports = []\n",
    "    for node1 in G.nodes():\n",
    "        total_import = 0\n",
    "        for node2 in G[node1]:\n",
    "            total_import += G[node2][node1]['weight']\n",
    "        node_imports.append(total_import)\n",
    "    return node_imports"
   ]
  },
  {
   "cell_type": "markdown",
   "id": "702b0e08",
   "metadata": {},
   "source": [
    "### edge_weights"
   ]
  },
  {
   "cell_type": "code",
   "execution_count": 3,
   "id": "67b12e0f",
   "metadata": {},
   "outputs": [],
   "source": [
    "def edge_weights(G):\n",
    "    edge_weights = [G[u][v]['weight'] for u,v in G.edges()]\n",
    "    return edge_weights"
   ]
  },
  {
   "cell_type": "markdown",
   "id": "3fa0b126",
   "metadata": {},
   "source": [
    "### normalise_weights"
   ]
  },
  {
   "cell_type": "code",
   "execution_count": 4,
   "id": "a00d1254",
   "metadata": {},
   "outputs": [],
   "source": [
    "def normalise_weights(weights,scalar=1):\n",
    "    max_value = np.max(weights)\n",
    "    return [scalar * (weight / max_value) for weight in weights]"
   ]
  },
  {
   "cell_type": "markdown",
   "id": "b6575681",
   "metadata": {},
   "source": [
    "### to_zero_one"
   ]
  },
  {
   "cell_type": "code",
   "execution_count": 5,
   "id": "207faf7b",
   "metadata": {},
   "outputs": [],
   "source": [
    "def to_zero_one(x):\n",
    "    \"Map vector x to the zero one interval.\"\n",
    "    x = np.array(x)\n",
    "    x_min, x_max = x.min(), x.max()\n",
    "    return (x - x_min)/(x_max - x_min)"
   ]
  },
  {
   "cell_type": "markdown",
   "id": "705383be",
   "metadata": {},
   "source": [
    "### to_zero_one_beta"
   ]
  },
  {
   "cell_type": "code",
   "execution_count": 6,
   "id": "dab103e2",
   "metadata": {},
   "outputs": [],
   "source": [
    "def to_zero_one_beta(x, \n",
    "                qrange=[0.25, 0.75], \n",
    "                beta_para=[0.5, 0.5]):\n",
    "    \n",
    "    \"\"\"\n",
    "    Nonlinearly map vector x to the zero one interval with beta distribution.\n",
    "    https://en.wikipedia.org/wiki/Beta_distribution\n",
    "    \"\"\"\n",
    "    x = np.array(x)\n",
    "    x_min, x_max = x.min(), x.max()\n",
    "    if beta_para != None:\n",
    "        a, b = beta_para\n",
    "        return beta.cdf((x - x_min) /(x_max - x_min), a, b)\n",
    "    else:\n",
    "        q1, q2 = qrange\n",
    "        return (x - x_min) * (q2 - q1) /(x_max - x_min) + q1"
   ]
  },
  {
   "cell_type": "markdown",
   "id": "53a716d8",
   "metadata": {},
   "source": [
    "### colorise_weights"
   ]
  },
  {
   "cell_type": "code",
   "execution_count": 7,
   "id": "55386e28",
   "metadata": {},
   "outputs": [],
   "source": [
    "import matplotlib.cm as cm\n",
    "def colorise_weights(weights,beta=True,color_palette=cm.plasma):\n",
    "    if beta:\n",
    "        cp = color_palette(to_zero_one_beta(weights))\n",
    "    else:\n",
    "        cp = color_palette(to_zero_one(weights))\n",
    "    return cp "
   ]
  },
  {
   "cell_type": "markdown",
   "id": "8aab766f",
   "metadata": {},
   "source": [
    "### spec_rad"
   ]
  },
  {
   "cell_type": "code",
   "execution_count": 8,
   "id": "c6d46fe7",
   "metadata": {},
   "outputs": [],
   "source": [
    "def spec_rad(M):\n",
    "    \"\"\"\n",
    "    Compute the spectral radius of M.\n",
    "    \"\"\"\n",
    "    return np.max(np.abs(np.linalg.eigvals(M)))"
   ]
  },
  {
   "cell_type": "markdown",
   "id": "ee67ae7e",
   "metadata": {},
   "source": [
    "### adjacency_matrix_to_graph"
   ]
  },
  {
   "cell_type": "code",
   "execution_count": 9,
   "id": "6e5a06b1",
   "metadata": {},
   "outputs": [],
   "source": [
    "def adjacency_matrix_to_graph(A, \n",
    "               codes,\n",
    "               tol=0.0):  # clip entries below tol\n",
    "    \"\"\"\n",
    "    Build a networkx graph object given an adjacency matrix\n",
    "    \"\"\"\n",
    "    G = nx.DiGraph()\n",
    "    N = len(A)\n",
    "\n",
    "    # Add nodes\n",
    "    for i, code in enumerate(codes):\n",
    "        G.add_node(code, name=code)\n",
    "\n",
    "    # Add the edges\n",
    "    for i in range(N):\n",
    "        for j in range(N):\n",
    "            a = A[i, j]\n",
    "            if a > tol:\n",
    "                G.add_edge(codes[i], codes[j], weight=a)\n",
    "\n",
    "    return G"
   ]
  },
  {
   "cell_type": "markdown",
   "id": "123d8ede",
   "metadata": {},
   "source": [
    "### eigenvector_centrality"
   ]
  },
  {
   "cell_type": "code",
   "execution_count": 10,
   "id": "2b115a9e",
   "metadata": {},
   "outputs": [],
   "source": [
    "def eigenvector_centrality(A, k=40, authority=False):\n",
    "    \"\"\"\n",
    "    Computes the dominant eigenvector of A. Assumes A is \n",
    "    primitive and uses the power method.  \n",
    "    \"\"\"\n",
    "    A_temp = A.T if authority else A\n",
    "    n = len(A_temp)\n",
    "    r = spec_rad(A_temp)\n",
    "    e = r**(-k) * (np.linalg.matrix_power(A_temp, k) @ np.ones(n))\n",
    "    return e / np.sum(e)"
   ]
  },
  {
   "cell_type": "markdown",
   "id": "c5680e1b",
   "metadata": {},
   "source": [
    "### katz_centrality"
   ]
  },
  {
   "cell_type": "code",
   "execution_count": 11,
   "id": "bf72a7f9",
   "metadata": {},
   "outputs": [],
   "source": [
    "def katz_centrality(A, b=1, authority=False):\n",
    "    \"\"\"\n",
    "    Computes the Katz centrality of A, defined as the x solving\n",
    "\n",
    "    x = 1 + b A x    (1 = vector of ones)\n",
    "\n",
    "    Assumes that A is square.\n",
    "\n",
    "    If authority=True, then A is replaced by its transpose.\n",
    "    \"\"\"\n",
    "    n = len(A)\n",
    "    I = np.identity(n)\n",
    "    C = I - b * A.T if authority else I - b * A\n",
    "    return np.linalg.solve(C, np.ones(n))"
   ]
  },
  {
   "cell_type": "markdown",
   "id": "80c46115",
   "metadata": {},
   "source": [
    "### build_unweighted_matrix"
   ]
  },
  {
   "cell_type": "code",
   "execution_count": 12,
   "id": "e1391d95",
   "metadata": {},
   "outputs": [],
   "source": [
    "def build_unweighted_matrix(Z, tol=1e-5):\n",
    "    \"\"\"\n",
    "    return a unweighted adjacency matrix\n",
    "    \"\"\"\n",
    "    return 1*(Z>tol)"
   ]
  },
  {
   "cell_type": "markdown",
   "id": "7b4de575",
   "metadata": {},
   "source": [
    "### erdos_renyi_graph"
   ]
  },
  {
   "cell_type": "code",
   "execution_count": 13,
   "id": "d1e393b0",
   "metadata": {},
   "outputs": [],
   "source": [
    "def erdos_renyi_graph(n=100, p=0.5, seed=1234):\n",
    "    \"Returns an Erdős-Rényi random graph.\"\n",
    "    \n",
    "    np.random.seed(seed)\n",
    "    edges = itertools.combinations(range(n), 2)\n",
    "    G = nx.Graph()\n",
    "    \n",
    "    for e in edges:\n",
    "        if np.random.rand() < p:\n",
    "            G.add_edge(*e)\n",
    "    return G"
   ]
  },
  {
   "cell_type": "markdown",
   "id": "b1d4bfdd",
   "metadata": {},
   "source": [
    "### build_coefficient_matrices"
   ]
  },
  {
   "cell_type": "code",
   "execution_count": 14,
   "id": "2fcfbdb1",
   "metadata": {},
   "outputs": [],
   "source": [
    "def build_coefficient_matrices(Z, X):\n",
    "    \"\"\"\n",
    "    Build coefficient matrices A and F from Z and X via \n",
    "    \n",
    "        A[i, j] = Z[i, j] / X[j] \n",
    "        F[i, j] = Z[i, j] / X[i]\n",
    "    \n",
    "    \"\"\"\n",
    "    A, F = np.empty_like(Z), np.empty_like(Z)\n",
    "    n = A.shape[0]\n",
    "    for i in range(n):\n",
    "        for j in range(n):\n",
    "            A[i, j] = Z[i, j] / X[j]\n",
    "            F[i, j] = Z[i, j] / X[i]\n",
    "\n",
    "    return A, F"
   ]
  },
  {
   "cell_type": "markdown",
   "id": "07833609",
   "metadata": {},
   "source": [
    "## plotting\n",
    "\n",
    "### plot_graph"
   ]
  },
  {
   "cell_type": "code",
   "execution_count": 15,
   "id": "5e00904b",
   "metadata": {},
   "outputs": [],
   "source": [
    "def plot_graph(A, \n",
    "               X,\n",
    "               ax,\n",
    "               codes,\n",
    "               node_color_list=None,\n",
    "               node_size_multiple=0.0005, \n",
    "               edge_size_multiple=14,\n",
    "               layout_type='circular',\n",
    "               layout_seed=1234,\n",
    "               tol=0.03):  # clip entries below tol\n",
    "\n",
    "    G = nx.DiGraph()\n",
    "    N = len(A)\n",
    "\n",
    "    # Add nodes, with weights by sales of the sector\n",
    "    for i, w in enumerate(X):\n",
    "        G.add_node(codes[i], weight=w, name=codes[i])\n",
    "\n",
    "    node_sizes = X * node_size_multiple\n",
    "\n",
    "    # Position the nodes\n",
    "    if layout_type == 'circular':\n",
    "        node_pos_dict = nx.circular_layout(G)\n",
    "    elif layout_type == 'spring':\n",
    "        node_pos_dict = nx.spring_layout(G, seed=layout_seed)\n",
    "    elif layout_type == 'random':\n",
    "        node_pos_dict = nx.random_layout(G, seed=layout_seed)\n",
    "    elif layout_type == 'spiral':\n",
    "        node_pos_dict = nx.spiral_layout(G)\n",
    "\n",
    "    # Add the edges, along with their colors and widths\n",
    "    edge_colors = []\n",
    "    edge_widths = []\n",
    "    for i in range(N):\n",
    "        for j in range(N):\n",
    "            a = A[i, j]\n",
    "            if a > tol:\n",
    "                G.add_edge(codes[i], codes[j])\n",
    "                edge_colors.append(node_color_list[i])\n",
    "                width = a * edge_size_multiple\n",
    "                edge_widths.append(width)\n",
    "    \n",
    "    nx.draw_networkx_nodes(G, \n",
    "                           node_pos_dict, \n",
    "                           node_color=node_color_list, \n",
    "                           node_size=node_sizes, \n",
    "                           edgecolors='grey', \n",
    "                           linewidths=2, \n",
    "                           alpha=0.6, \n",
    "                           ax=ax)\n",
    "\n",
    "    nx.draw_networkx_labels(G, \n",
    "                            node_pos_dict, \n",
    "                            font_size=10, \n",
    "                            ax=ax)\n",
    "\n",
    "    nx.draw_networkx_edges(G, \n",
    "                           node_pos_dict, \n",
    "                           edge_color=edge_colors, \n",
    "                           width=edge_widths, \n",
    "                           arrows=True, \n",
    "                           arrowsize=20, \n",
    "                           alpha=0.6,  \n",
    "                           ax=ax, \n",
    "                           arrowstyle='->', \n",
    "                           node_size=node_sizes, \n",
    "                           connectionstyle='arc3,rad=0.15')"
   ]
  },
  {
   "cell_type": "markdown",
   "id": "69d24663",
   "metadata": {},
   "source": [
    "### plot_matrices"
   ]
  },
  {
   "cell_type": "code",
   "execution_count": 16,
   "id": "6287e415",
   "metadata": {},
   "outputs": [],
   "source": [
    "def plot_matrices(matrix,\n",
    "                  codes,\n",
    "                  ax,\n",
    "                  font_size=12,\n",
    "                  alpha=0.6, \n",
    "                  colormap=cm.viridis, \n",
    "                  color45d=None, \n",
    "                  xlabel='sector $j$', \n",
    "                  ylabel='sector $i$'):\n",
    "    \n",
    "    ticks = range(len(matrix))\n",
    "\n",
    "    levels = np.sqrt(np.linspace(0, 0.75, 100))\n",
    "    \n",
    "    \n",
    "    if color45d != None:\n",
    "        co = ax.contourf(ticks, \n",
    "                         ticks,\n",
    "                         matrix,\n",
    "#                          levels,\n",
    "                         alpha=alpha, cmap=colormap)\n",
    "        ax.plot(ticks, ticks, color=color45d)\n",
    "    else:\n",
    "        co = ax.contourf(ticks, \n",
    "                         ticks,\n",
    "                         matrix,\n",
    "                         levels,\n",
    "                         alpha=alpha, cmap=colormap)\n",
    "\n",
    "    #plt.colorbar(co)\n",
    "\n",
    "    ax.set_xlabel(xlabel, fontsize=font_size)\n",
    "    ax.set_ylabel(ylabel, fontsize=font_size)\n",
    "    ax.set_yticks(ticks)\n",
    "    ax.set_yticklabels(codes)\n",
    "    ax.set_xticks(ticks)\n",
    "    ax.set_xticklabels(codes)"
   ]
  },
  {
   "cell_type": "markdown",
   "id": "e594c12e",
   "metadata": {},
   "source": [
    "### unit_simplex"
   ]
  },
  {
   "cell_type": "code",
   "execution_count": 17,
   "id": "e813cc57",
   "metadata": {},
   "outputs": [],
   "source": [
    "def unit_simplex(angle):\n",
    "    \n",
    "    fig = plt.figure(figsize=(10, 8))\n",
    "    ax = fig.add_subplot(111, projection='3d')\n",
    "\n",
    "    vtx = [[0, 0, 1],\n",
    "           [0, 1, 0], \n",
    "           [1, 0, 0]]\n",
    "    \n",
    "    tri = Poly3DCollection([vtx], color='darkblue', alpha=0.3)\n",
    "    tri.set_facecolor([0.5, 0.5, 1])\n",
    "    ax.add_collection3d(tri)\n",
    "\n",
    "    ax.set(xlim=(0, 1), ylim=(0, 1), zlim=(0, 1), \n",
    "           xticks=(1,), yticks=(1,), zticks=(1,))\n",
    "\n",
    "    ax.set_xticklabels(['$(1, 0, 0)$'], fontsize=16)\n",
    "    ax.set_yticklabels([f'$(0, 1, 0)$'], fontsize=16)\n",
    "    ax.set_zticklabels([f'$(0, 0, 1)$'], fontsize=16)\n",
    "\n",
    "    ax.xaxis.majorTicks[0].set_pad(15)\n",
    "    ax.yaxis.majorTicks[0].set_pad(15)\n",
    "    ax.zaxis.majorTicks[0].set_pad(35)\n",
    "\n",
    "    ax.view_init(30, angle)\n",
    "\n",
    "    # Move axis to origin\n",
    "    ax.xaxis._axinfo['juggled'] = (0, 0, 0)\n",
    "    ax.yaxis._axinfo['juggled'] = (1, 1, 1)\n",
    "    ax.zaxis._axinfo['juggled'] = (2, 2, 0)\n",
    "    \n",
    "    ax.grid(False)\n",
    "    \n",
    "    return ax"
   ]
  }
 ],
 "metadata": {
  "jupytext": {
   "cell_metadata_filter": "-all",
   "formats": "md:myst",
   "text_representation": {
    "extension": ".md",
    "format_name": "myst",
    "format_version": 0.13,
    "jupytext_version": "1.10.3"
   }
  },
  "kernelspec": {
   "display_name": "Python 3",
   "language": "python",
   "name": "python3"
  },
  "language_info": {
   "codemirror_mode": {
    "name": "ipython",
    "version": 3
   },
   "file_extension": ".py",
   "mimetype": "text/x-python",
   "name": "python",
   "nbconvert_exporter": "python",
   "pygments_lexer": "ipython3",
   "version": "3.8.12"
  },
  "source_map": [
   14,
   21,
   30,
   33,
   42,
   45,
   49,
   52,
   56,
   59,
   65,
   68,
   85,
   88,
   96,
   99,
   105,
   108,
   130,
   133,
   144,
   147,
   162,
   165,
   171,
   174,
   186,
   189,
   206,
   211,
   279,
   282,
   320,
   323
  ]
 },
 "nbformat": 4,
 "nbformat_minor": 5
}