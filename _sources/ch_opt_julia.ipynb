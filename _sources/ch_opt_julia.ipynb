{
 "cells": [
  {
   "cell_type": "markdown",
   "id": "bdb1c3dc",
   "metadata": {},
   "source": [
    "# Chapter 3 - Optimal Flows (Julia Code)\n",
    "\n",
    "## Bellman’s Method\n",
    "\n",
    "Our first step is to set up the cost function, which we store as an array called $c$. Note that we set $c[i, j] = Inf$ when no edge\n",
    "exists from $i$ to $j$, so that such a path is never chosen when evaluating the Bellman operator"
   ]
  },
  {
   "cell_type": "code",
   "execution_count": 1,
   "id": "b4b568ef",
   "metadata": {
    "tags": [
     "remove-output"
    ]
   },
   "outputs": [
    {
     "data": {
      "text/plain": [
       "0"
      ]
     },
     "execution_count": 1,
     "metadata": {},
     "output_type": "execute_result"
    }
   ],
   "source": [
    "c = fill(Inf, (7, 7))\n",
    "c[1, 2], c[1, 3], c[1, 4] = 1, 5, 3\n",
    "c[2, 4], c[2, 5] = 9, 6\n",
    "c[3, 6] = 2\n",
    "c[4, 6] = 4\n",
    "c[5, 7] = 4\n",
    "c[6, 7] = 1\n",
    "c[7, 7] = 0"
   ]
  },
  {
   "cell_type": "markdown",
   "id": "5d22b08e",
   "metadata": {},
   "source": [
    "Next we define the Bellman operator."
   ]
  },
  {
   "cell_type": "code",
   "execution_count": 2,
   "id": "ffce08d3",
   "metadata": {
    "tags": [
     "remove-output"
    ]
   },
   "outputs": [
    {
     "data": {
      "text/plain": [
       "T (generic function with 1 method)"
      ]
     },
     "execution_count": 2,
     "metadata": {},
     "output_type": "execute_result"
    }
   ],
   "source": [
    "function T(q)\n",
    "    Tq = similar(q)\n",
    "    n = length(q)\n",
    "    for x in 1:n\n",
    "        Tq[x] = minimum(c[x, :] + q[:])\n",
    "    end\n",
    "    return Tq\n",
    "end"
   ]
  },
  {
   "cell_type": "markdown",
   "id": "99df935b",
   "metadata": {},
   "source": [
    "Now we arbitraryly set $𝑞 ≡ 0$, generate the sequence of iterates $𝑇𝑞$, $𝑇^2𝑞$, $𝑇^3𝑞$ and plot them."
   ]
  },
  {
   "cell_type": "code",
   "execution_count": 3,
   "id": "b2e06275",
   "metadata": {},
   "outputs": [
    {
     "ename": "LoadError",
     "evalue": "InitError: PyError (PyImport_ImportModule\n\nThe Python package matplotlib could not be imported by pyimport. Usually this means\nthat you did not install matplotlib in the Python version being used by PyCall.\n\nPyCall is currently configured to use the Python version at:\n\n/usr/bin/python3\n\nand you should use whatever mechanism you usually use (apt-get, pip, conda,\netcetera) to install the Python package containing the matplotlib module.\n\nOne alternative is to re-configure PyCall to use a different Python\nversion on your system: set ENV[\"PYTHON\"] to the path/name of the python\nexecutable you want to use, run Pkg.build(\"PyCall\"), and re-launch Julia.\n\nAnother alternative is to configure PyCall to use a Julia-specific Python\ndistribution via the Conda.jl package (which installs a private Anaconda\nPython distribution), which has the advantage that packages can be installed\nand kept up-to-date via Julia.  As explained in the PyCall documentation,\nset ENV[\"PYTHON\"]=\"\", run Pkg.build(\"PyCall\"), and re-launch Julia. Then,\nTo install the matplotlib module, you can use `pyimport_conda(\"matplotlib\", PKG)`,\nwhere PKG is the Anaconda package that contains the module matplotlib,\nor alternatively you can use the Conda package directly (via\n`using Conda` followed by `Conda.add` etcetera).\n\n) <class 'ModuleNotFoundError'>\nModuleNotFoundError(\"No module named 'matplotlib'\")\n\nduring initialization of module PyPlot",
     "output_type": "error",
     "traceback": [
      "InitError: PyError (PyImport_ImportModule\n\nThe Python package matplotlib could not be imported by pyimport. Usually this means\nthat you did not install matplotlib in the Python version being used by PyCall.\n\nPyCall is currently configured to use the Python version at:\n\n/usr/bin/python3\n\nand you should use whatever mechanism you usually use (apt-get, pip, conda,\netcetera) to install the Python package containing the matplotlib module.\n\nOne alternative is to re-configure PyCall to use a different Python\nversion on your system: set ENV[\"PYTHON\"] to the path/name of the python\nexecutable you want to use, run Pkg.build(\"PyCall\"), and re-launch Julia.\n\nAnother alternative is to configure PyCall to use a Julia-specific Python\ndistribution via the Conda.jl package (which installs a private Anaconda\nPython distribution), which has the advantage that packages can be installed\nand kept up-to-date via Julia.  As explained in the PyCall documentation,\nset ENV[\"PYTHON\"]=\"\", run Pkg.build(\"PyCall\"), and re-launch Julia. Then,\nTo install the matplotlib module, you can use `pyimport_conda(\"matplotlib\", PKG)`,\nwhere PKG is the Anaconda package that contains the module matplotlib,\nor alternatively you can use the Conda package directly (via\n`using Conda` followed by `Conda.add` etcetera).\n\n) <class 'ModuleNotFoundError'>\nModuleNotFoundError(\"No module named 'matplotlib'\")\n\nduring initialization of module PyPlot",
      "",
      "Stacktrace:",
      "  [1] pyimport(name::String)",
      "    @ PyCall ~/.julia/packages/PyCall/7a7w0/src/PyCall.jl:550",
      "  [2] pyimport_conda(modulename::String, condapkg::String, channel::String)",
      "    @ PyCall ~/.julia/packages/PyCall/7a7w0/src/PyCall.jl:708",
      "  [3] pyimport_conda",
      "    @ ~/.julia/packages/PyCall/7a7w0/src/PyCall.jl:707 [inlined]",
      "  [4] __init__()",
      "    @ PyPlot ~/.julia/packages/PyPlot/XaELc/src/init.jl:185",
      "  [5] _include_from_serialized(path::String, depmods::Vector{Any})",
      "    @ Base ./loading.jl:696",
      "  [6] _require_search_from_serialized(pkg::Base.PkgId, sourcepath::String)",
      "    @ Base ./loading.jl:782",
      "  [7] _require(pkg::Base.PkgId)",
      "    @ Base ./loading.jl:1020",
      "  [8] require(uuidkey::Base.PkgId)",
      "    @ Base ./loading.jl:936",
      "  [9] require(into::Module, mod::Symbol)",
      "    @ Base ./loading.jl:923",
      " [10] eval",
      "    @ ./boot.jl:360 [inlined]",
      " [11] include_string(mapexpr::typeof(REPL.softscope), mod::Module, code::String, filename::String)",
      "    @ Base ./loading.jl:1116"
     ]
    }
   ],
   "source": [
    "using PyPlot\n",
    "fig, ax = plt.subplots()\n",
    "\n",
    "n = 7\n",
    "q = zeros(n)\n",
    "ax.plot(1:n, q)\n",
    "\n",
    "for i in 1:3\n",
    "    new_q = T(q)\n",
    "    ax.plot(1:n, new_q, \"-o\", alpha=0.7, label =\"iterate $i\")\n",
    "    q = new_q\n",
    "end\n",
    "\n",
    "ax.legend()"
   ]
  },
  {
   "cell_type": "markdown",
   "id": "e862212f",
   "metadata": {},
   "source": [
    "## Linear programming\n",
    "When solving linear programs, one option is to use a domain specific modeling language to set out the objective and constraints in the optimization problem. Here we demonstrate the Julia package JuMP."
   ]
  },
  {
   "cell_type": "code",
   "execution_count": null,
   "id": "2eb784b1",
   "metadata": {},
   "outputs": [],
   "source": [
    "using JuMP\n",
    "using GLPK"
   ]
  },
  {
   "cell_type": "markdown",
   "id": "fa2b9548",
   "metadata": {},
   "source": [
    "We create our model object and select our solver."
   ]
  },
  {
   "cell_type": "code",
   "execution_count": null,
   "id": "fd44186b",
   "metadata": {},
   "outputs": [],
   "source": [
    "m = Model()\n",
    "set_optimizer(m, GLPK.Optimizer)\n"
   ]
  },
  {
   "cell_type": "markdown",
   "id": "07a489c9",
   "metadata": {},
   "source": [
    "Now we add variables, constraints and an objective to our model."
   ]
  },
  {
   "cell_type": "code",
   "execution_count": null,
   "id": "b78aa2fe",
   "metadata": {
    "tags": [
     "remove-output"
    ]
   },
   "outputs": [],
   "source": [
    "@variable(m, q1 >= 0)\n",
    "@variable(m, q2 >= 0)\n",
    "@constraint(m, 2q1 + 5q2 <= 30)\n",
    "@constraint(m, 4q1 + 2q2 <= 20)\n",
    "@objective(m, Max, 3q1 + 4q2)"
   ]
  },
  {
   "cell_type": "markdown",
   "id": "29d9023a",
   "metadata": {},
   "source": [
    "Finally we solve our linear program."
   ]
  },
  {
   "cell_type": "code",
   "execution_count": null,
   "id": "1adfbd97",
   "metadata": {},
   "outputs": [],
   "source": [
    "optimize!(m)\n",
    "\n",
    "println(value.(q1)) \n",
    "println(value.(q2))"
   ]
  }
 ],
 "metadata": {
  "jupytext": {
   "cell_metadata_filter": "-all",
   "formats": "md:myst",
   "text_representation": {
    "extension": ".md",
    "format_name": "myst",
    "format_version": 0.13,
    "jupytext_version": "1.10.3"
   }
  },
  "kernelspec": {
   "display_name": "Julia",
   "language": "Julia",
   "name": "julia-1.6"
  },
  "language_info": {
   "file_extension": ".jl",
   "mimetype": "application/julia",
   "name": "julia",
   "version": "1.6.5"
  },
  "source_map": [
   14,
   23,
   34,
   38,
   49,
   53,
   68,
   73,
   76,
   79,
   83,
   86,
   94,
   97
  ]
 },
 "nbformat": 4,
 "nbformat_minor": 5
}